{
  "cells": [
    {
      "cell_type": "code",
      "execution_count": 1,
      "metadata": {
        "colab": {
          "base_uri": "https://localhost:8080/"
        },
        "id": "xuxnfrp57bCq",
        "outputId": "2243fff7-4a88-42cf-d9b5-cf18d7e832ea"
      },
      "outputs": [
        {
          "output_type": "stream",
          "name": "stdout",
          "text": [
            "Requirement already satisfied: datasets in /usr/local/lib/python3.10/dist-packages (3.0.1)\n",
            "Requirement already satisfied: filelock in /usr/local/lib/python3.10/dist-packages (from datasets) (3.16.1)\n",
            "Requirement already satisfied: numpy>=1.17 in /usr/local/lib/python3.10/dist-packages (from datasets) (1.26.4)\n",
            "Requirement already satisfied: pyarrow>=15.0.0 in /usr/local/lib/python3.10/dist-packages (from datasets) (17.0.0)\n",
            "Requirement already satisfied: dill<0.3.9,>=0.3.0 in /usr/local/lib/python3.10/dist-packages (from datasets) (0.3.8)\n",
            "Requirement already satisfied: pandas in /usr/local/lib/python3.10/dist-packages (from datasets) (2.1.4)\n",
            "Requirement already satisfied: requests>=2.32.2 in /usr/local/lib/python3.10/dist-packages (from datasets) (2.32.3)\n",
            "Requirement already satisfied: tqdm>=4.66.3 in /usr/local/lib/python3.10/dist-packages (from datasets) (4.66.5)\n",
            "Requirement already satisfied: xxhash in /usr/local/lib/python3.10/dist-packages (from datasets) (3.5.0)\n",
            "Requirement already satisfied: multiprocess in /usr/local/lib/python3.10/dist-packages (from datasets) (0.70.16)\n",
            "Requirement already satisfied: fsspec<=2024.6.1,>=2023.1.0 in /usr/local/lib/python3.10/dist-packages (from fsspec[http]<=2024.6.1,>=2023.1.0->datasets) (2024.6.1)\n",
            "Requirement already satisfied: aiohttp in /usr/local/lib/python3.10/dist-packages (from datasets) (3.10.5)\n",
            "Requirement already satisfied: huggingface-hub>=0.22.0 in /usr/local/lib/python3.10/dist-packages (from datasets) (0.24.7)\n",
            "Requirement already satisfied: packaging in /usr/local/lib/python3.10/dist-packages (from datasets) (24.1)\n",
            "Requirement already satisfied: pyyaml>=5.1 in /usr/local/lib/python3.10/dist-packages (from datasets) (6.0.2)\n",
            "Requirement already satisfied: aiohappyeyeballs>=2.3.0 in /usr/local/lib/python3.10/dist-packages (from aiohttp->datasets) (2.4.0)\n",
            "Requirement already satisfied: aiosignal>=1.1.2 in /usr/local/lib/python3.10/dist-packages (from aiohttp->datasets) (1.3.1)\n",
            "Requirement already satisfied: attrs>=17.3.0 in /usr/local/lib/python3.10/dist-packages (from aiohttp->datasets) (24.2.0)\n",
            "Requirement already satisfied: frozenlist>=1.1.1 in /usr/local/lib/python3.10/dist-packages (from aiohttp->datasets) (1.4.1)\n",
            "Requirement already satisfied: multidict<7.0,>=4.5 in /usr/local/lib/python3.10/dist-packages (from aiohttp->datasets) (6.1.0)\n",
            "Requirement already satisfied: yarl<2.0,>=1.0 in /usr/local/lib/python3.10/dist-packages (from aiohttp->datasets) (1.11.1)\n",
            "Requirement already satisfied: async-timeout<5.0,>=4.0 in /usr/local/lib/python3.10/dist-packages (from aiohttp->datasets) (4.0.3)\n",
            "Requirement already satisfied: typing-extensions>=3.7.4.3 in /usr/local/lib/python3.10/dist-packages (from huggingface-hub>=0.22.0->datasets) (4.12.2)\n",
            "Requirement already satisfied: charset-normalizer<4,>=2 in /usr/local/lib/python3.10/dist-packages (from requests>=2.32.2->datasets) (3.3.2)\n",
            "Requirement already satisfied: idna<4,>=2.5 in /usr/local/lib/python3.10/dist-packages (from requests>=2.32.2->datasets) (3.10)\n",
            "Requirement already satisfied: urllib3<3,>=1.21.1 in /usr/local/lib/python3.10/dist-packages (from requests>=2.32.2->datasets) (2.2.3)\n",
            "Requirement already satisfied: certifi>=2017.4.17 in /usr/local/lib/python3.10/dist-packages (from requests>=2.32.2->datasets) (2024.8.30)\n",
            "Requirement already satisfied: python-dateutil>=2.8.2 in /usr/local/lib/python3.10/dist-packages (from pandas->datasets) (2.8.2)\n",
            "Requirement already satisfied: pytz>=2020.1 in /usr/local/lib/python3.10/dist-packages (from pandas->datasets) (2024.2)\n",
            "Requirement already satisfied: tzdata>=2022.1 in /usr/local/lib/python3.10/dist-packages (from pandas->datasets) (2024.1)\n",
            "Requirement already satisfied: six>=1.5 in /usr/local/lib/python3.10/dist-packages (from python-dateutil>=2.8.2->pandas->datasets) (1.16.0)\n"
          ]
        }
      ],
      "source": [
        "!pip install datasets"
      ]
    },
    {
      "cell_type": "markdown",
      "source": [
        "# Track 1\n",
        " [15 points]\n",
        "Let’s construct a dataset ourselves for with a subset of languages that are roman-script based. The following\n",
        "are the locales that we want to consider in our dataset [27 languages]."
      ],
      "metadata": {
        "id": "_uYaczL5ZO7T"
      }
    },
    {
      "cell_type": "markdown",
      "source": [
        "## Down load the data from web"
      ],
      "metadata": {
        "id": "YXeGk4I3aXnC"
      }
    },
    {
      "cell_type": "code",
      "execution_count": 2,
      "metadata": {
        "id": "ds7KD-If64Q4"
      },
      "outputs": [],
      "source": [
        "from datasets import load_dataset\n",
        "\n",
        "dataset = load_dataset(\"qanastek/MASSIVE\")\n",
        "print(dataset)\n"
      ]
    },
    {
      "cell_type": "markdown",
      "source": [
        "## Select the locales required"
      ],
      "metadata": {
        "id": "xCjBYU_ubWNI"
      }
    },
    {
      "cell_type": "code",
      "execution_count": 28,
      "metadata": {
        "id": "5QlTA8g47VXv"
      },
      "outputs": [],
      "source": [
        "# Define the list of desired locales\n",
        "locales = [\"af-ZA\", \"da-DK\", \"de-DE\", \"en-US\", \"es-ES\", \"fr-FR\", \"fi-FI\", \"hu-HU\", \"is-IS\", \"it-IT\", \"jv-ID\", \"lv-LV\", \"ms-MY\", \"nb-NO\", \"nl-NL\", \"pl-PL\", \"pt-PT\", \"ro-RO\", \"ru-RU\", \"sl-SL\", \"sv-SE\", \"sq-AL\", \"sw-KE\", \"tl-PH\", \"tr-TR\", \"vi-VN\", \"cy-GB\"]\n",
        "\n"
      ]
    },
    {
      "cell_type": "code",
      "source": [
        "# Filter the dataset to include only the desired locales and columns\n",
        "filtered_dataset = dataset.filter(lambda example: example['locale'] in locales).map(lambda example: {k: example[k] for k in ['locale', 'partition', 'utt', 'tokens']})\n",
        "\n",
        "\n",
        "print(filtered_dataset)"
      ],
      "metadata": {
        "id": "WFn7F7w8bNVl"
      },
      "execution_count": null,
      "outputs": []
    },
    {
      "cell_type": "markdown",
      "source": [
        "## Save the data to text files and save for each locale"
      ],
      "metadata": {
        "id": "H2Q4BnxCbeNk"
      }
    },
    {
      "cell_type": "code",
      "execution_count": 4,
      "metadata": {
        "id": "AKdjqajtAKW7"
      },
      "outputs": [],
      "source": [
        "from datasets import load_dataset\n",
        "from google.colab import drive\n",
        "\n",
        "# Mount Google Drive\n",
        "drive.mount('/content/drive')\n",
        "\n",
        "# Specify the destination folder in Google Drive\n",
        "drive_folder = '/content/drive/My Drive/assignment_data/dal/assign6/locale_files'  # Change to your desired folder\n",
        "\n",
        "import os\n",
        "# Assuming 'drive_folder' is defined as in the previous response\n",
        "\n",
        "os.makedirs(drive_folder, exist_ok=True)  # Create directories if they don't exist\n",
        "\n",
        "# Save the dataset to a local file in your Drive\n",
        "filtered_dataset.save_to_disk(os.path.join(drive_folder,'filtered_data'))"
      ]
    },
    {
      "cell_type": "markdown",
      "source": [
        "## Saving files locally to gdrive storage"
      ],
      "metadata": {
        "id": "fY3SevxLbq7V"
      }
    },
    {
      "cell_type": "code",
      "source": [
        "for locale in locales:\n",
        "  # Filter the dataset for the current locale\n",
        "  locale_dataset = filtered_dataset.filter(lambda example: example['locale'] == locale)\n",
        "\n",
        "  # Extract the utterances and write them to a file\n",
        "  with open(f\"{locale}.txt\", \"w\") as f:\n",
        "    for example in locale_dataset['train']:\n",
        "      f.write(example['utt'] + \"\\n\")\n",
        "\n",
        "# Specify the destination folder in Google Drive\n",
        "drive_folder = '/content/drive/My Drive/assignment_data/dal/assign6/locale_files'  # Change to your desired folder\n",
        "\n",
        "import os\n",
        "# Assuming 'drive_folder' is defined as in the previous response\n",
        "\n",
        "os.makedirs(drive_folder, exist_ok=True)  # Create directories if they don't exist\n",
        "\n",
        "# Loop through desired locales and save files\n",
        "for locale in locales:\n",
        "  # Construct the full path for the file in Google Drive\n",
        "  drive_path = f\"{drive_folder}/{locale}.txt\"\n",
        "\n",
        "  # Copy the file to Google Drive using the shell command 'cp'\n",
        "  !cp \"{locale}.txt\" \"{drive_path}\"\n",
        "\n",
        "print(\"All locale files saved to Google Drive.\")"
      ],
      "metadata": {
        "id": "KN5nRBVVa0sz"
      },
      "execution_count": null,
      "outputs": []
    },
    {
      "cell_type": "markdown",
      "source": [
        "## Mount the drive and read the files again"
      ],
      "metadata": {
        "id": "P4s7Cz3Ub0u6"
      }
    },
    {
      "cell_type": "code",
      "execution_count": 5,
      "metadata": {
        "colab": {
          "base_uri": "https://localhost:8080/"
        },
        "id": "5KU9m_5NTO29",
        "outputId": "4630962d-30d5-4815-cda7-98b56ba661a8"
      },
      "outputs": [
        {
          "output_type": "stream",
          "name": "stdout",
          "text": [
            "Drive already mounted at /content/drive; to attempt to forcibly remount, call drive.mount(\"/content/drive\", force_remount=True).\n"
          ]
        }
      ],
      "source": [
        "import datasets\n",
        "from datasets import load_dataset\n",
        "from google.colab import drive\n",
        "\n",
        "# Mount Google Drive\n",
        "drive.mount('/content/drive')"
      ]
    },
    {
      "cell_type": "code",
      "execution_count": 6,
      "metadata": {
        "colab": {
          "base_uri": "https://localhost:8080/"
        },
        "id": "MpMIk0lyESII",
        "outputId": "ce5f0a76-ec45-4c88-c587-4b9727b7509c"
      },
      "outputs": [
        {
          "output_type": "stream",
          "name": "stdout",
          "text": [
            "DatasetDict({\n",
            "    train: Dataset({\n",
            "        features: ['id', 'locale', 'partition', 'scenario', 'intent', 'utt', 'annot_utt', 'tokens', 'ner_tags', 'worker_id', 'slot_method', 'judgments'],\n",
            "        num_rows: 310878\n",
            "    })\n",
            "    validation: Dataset({\n",
            "        features: ['id', 'locale', 'partition', 'scenario', 'intent', 'utt', 'annot_utt', 'tokens', 'ner_tags', 'worker_id', 'slot_method', 'judgments'],\n",
            "        num_rows: 54891\n",
            "    })\n",
            "    test: Dataset({\n",
            "        features: ['id', 'locale', 'partition', 'scenario', 'intent', 'utt', 'annot_utt', 'tokens', 'ner_tags', 'worker_id', 'slot_method', 'judgments'],\n",
            "        num_rows: 80298\n",
            "    })\n",
            "})\n",
            "{'train': (310878, 12), 'validation': (54891, 12), 'test': (80298, 12)}\n",
            "{'id': '1', 'locale': 'af-ZA', 'partition': 'train', 'scenario': 9, 'intent': 55, 'utt': 'maak my wakker nege-uur v. m. op vrydag', 'annot_utt': 'maak my wakker [time : nege-uur v. m.] op [date : vrydag]', 'tokens': ['maak', 'my', 'wakker', 'nege-uur', 'v.', 'm.', 'op', 'vrydag'], 'ner_tags': [0, 0, 0, 60, 16, 16, 0, 7], 'worker_id': '20', 'slot_method': {'slot': ['time', 'date'], 'method': ['translation', 'translation']}, 'judgments': {'worker_id': ['40', '49', '20'], 'intent_score': [1, 1, 1], 'slots_score': [1, 1, 1], 'grammar_score': [4, 4, 4], 'spelling_score': [2, 2, 2], 'language_identification': ['target', 'target', 'target']}}\n"
          ]
        }
      ],
      "source": [
        "\n",
        "\n",
        "# Specify the destination folder in Google Drive\n",
        "drive_folder = '/content/drive/My Drive/assignment_data/dal/assign6/locale_files'  # Change to your desired folder\n",
        "\n",
        "import os\n",
        "# Assuming 'drive_folder' is defined as in the previous response\n",
        "\n",
        "\n",
        "file_path = '/content/drive/My Drive/assignment_data/dal/assign6/locale_files/filtered_data'  # Same path used for saving\n",
        "\n",
        "# Load the dataset\n",
        "loaded_dataset = datasets.load_from_disk(file_path)\n",
        "print(loaded_dataset)\n",
        "print(loaded_dataset.shape)\n",
        "print(loaded_dataset['train'][0])"
      ]
    },
    {
      "cell_type": "markdown",
      "source": [
        "# Data processing\n",
        "* convert all words to lower case\n",
        "* remove all punctuations\n",
        "* remove all stop words"
      ],
      "metadata": {
        "id": "DTVY6uOXb8C1"
      }
    },
    {
      "cell_type": "code",
      "execution_count": 7,
      "metadata": {
        "colab": {
          "base_uri": "https://localhost:8080/"
        },
        "id": "cTzlt71cO2cp",
        "outputId": "4cb63d75-132f-4cba-ae1f-ed8fe7df3314"
      },
      "outputs": [
        {
          "output_type": "stream",
          "name": "stdout",
          "text": [
            "Requirement already satisfied: nltk in /usr/local/lib/python3.10/dist-packages (3.8.1)\n",
            "Requirement already satisfied: click in /usr/local/lib/python3.10/dist-packages (from nltk) (8.1.7)\n",
            "Requirement already satisfied: joblib in /usr/local/lib/python3.10/dist-packages (from nltk) (1.4.2)\n",
            "Requirement already satisfied: regex>=2021.8.3 in /usr/local/lib/python3.10/dist-packages (from nltk) (2024.9.11)\n",
            "Requirement already satisfied: tqdm in /usr/local/lib/python3.10/dist-packages (from nltk) (4.66.5)\n"
          ]
        }
      ],
      "source": [
        "# remove stopwords (common words like \"the\", \"is\", etc.) that do not contribute to the intent classification.\n",
        "!pip install nltk\n",
        "import nltk\n",
        "from nltk.corpus import stopwords\n",
        "import datasets\n"
      ]
    },
    {
      "cell_type": "code",
      "execution_count": 8,
      "metadata": {
        "colab": {
          "base_uri": "https://localhost:8080/"
        },
        "id": "5gokuQKmdzRC",
        "outputId": "f2140945-40be-4987-94d7-1f71df659dee"
      },
      "outputs": [
        {
          "output_type": "stream",
          "name": "stdout",
          "text": [
            "Requirement already satisfied: langcodes in /usr/local/lib/python3.10/dist-packages (3.4.0)\n",
            "Requirement already satisfied: language-data>=1.2 in /usr/local/lib/python3.10/dist-packages (from langcodes) (1.2.0)\n",
            "Requirement already satisfied: marisa-trie>=0.7.7 in /usr/local/lib/python3.10/dist-packages (from language-data>=1.2->langcodes) (1.2.0)\n",
            "Requirement already satisfied: setuptools in /usr/local/lib/python3.10/dist-packages (from marisa-trie>=0.7.7->language-data>=1.2->langcodes) (71.0.4)\n"
          ]
        }
      ],
      "source": [
        "!pip install langcodes"
      ]
    },
    {
      "cell_type": "code",
      "execution_count": 9,
      "metadata": {
        "colab": {
          "base_uri": "https://localhost:8080/"
        },
        "id": "nj83ITNRUlOd",
        "outputId": "839b8b57-2b7d-4179-a04c-dda38a4e0bf2"
      },
      "outputs": [
        {
          "output_type": "stream",
          "name": "stdout",
          "text": [
            "English\n",
            "Base language for en-US: english\n",
            "Base language for af-ZA: afrikaans\n"
          ]
        }
      ],
      "source": [
        "\n",
        "import langcodes\n",
        "\n",
        "language_code = \"en\"\n",
        "language_name = langcodes.get(language_code).display_name()\n",
        "print(language_name)  # Output: English\n",
        "\n",
        "def get_base_language(locale):\n",
        "    \"\"\"\n",
        "    Extracts the base language name from a locale string.\n",
        "\n",
        "    Args:\n",
        "        locale: The locale string (e.g., \"en-US\", \"fr-CA\").\n",
        "\n",
        "    Returns:\n",
        "        The base language name (e.g., \"en\", \"fr\").\n",
        "    \"\"\"\n",
        "    code =  locale.split('-')[0]\n",
        "    return langcodes.get(code).display_name().lower()\n",
        "\n",
        "# Example usage\n",
        "locale = \"en-US\"\n",
        "base_language = get_base_language(locale)\n",
        "print(f\"Base language for {locale}: {base_language}\")  # Output: Base language for en-US: en\n",
        "\n",
        "# Example usage\n",
        "locale = \"af-ZA\"\n",
        "base_language = get_base_language(locale)\n",
        "print(f\"Base language for {locale}: {base_language}\")  # Output: Base language for en-US: en\n",
        "\n"
      ]
    },
    {
      "cell_type": "code",
      "execution_count": 10,
      "metadata": {
        "id": "FiXJMXBDNz00"
      },
      "outputs": [],
      "source": [
        "#     Lowercase all text to ensure uniformity, as case differences should not affect classification.\n",
        "dataset1 = loaded_dataset.map(lambda x: {\"utt\": x[\"utt\"].lower()})\n",
        "\n",
        "\n",
        "# Remove punctuation to further simplify the utt, as punctuation usually does not provide information for a multinomial classifier. You can use regular expressions for this task.\n",
        "\n",
        "import re\n",
        "\n",
        "def remove_punctuation(utt):\n",
        "    return re.sub(r'[^\\w\\s]', '', utt)\n",
        "\n",
        "dataset2 = dataset1.map(lambda x: {\"utt\": remove_punctuation(x[\"utt\"])})\n"
      ]
    },
    {
      "cell_type": "code",
      "source": [
        "\n",
        "print(dataset2.shape)"
      ],
      "metadata": {
        "colab": {
          "base_uri": "https://localhost:8080/"
        },
        "id": "eXMbgDPDDu3M",
        "outputId": "ca5842dc-6f1d-4618-94fe-3492f37996aa"
      },
      "execution_count": 11,
      "outputs": [
        {
          "output_type": "stream",
          "name": "stdout",
          "text": [
            "{'train': (310878, 12), 'validation': (54891, 12), 'test': (80298, 12)}\n"
          ]
        }
      ]
    },
    {
      "cell_type": "code",
      "source": [
        "import nltk\n",
        "import datasets\n",
        "import langcodes\n",
        "from nltk.corpus import stopwords\n",
        "# Download stopwords resource\n",
        "nltk.download('stopwords', quiet=True)\n",
        "\n",
        "\n",
        "\n",
        "def remove_stopwords(example):\n",
        "  \"\"\"Removes stopwords from the 'utt' field based on locale.\"\"\"\n",
        "  locale = example['locale']\n",
        "  lang = get_base_language(locale)\n",
        "\n",
        "  if lang in stopwords.fileids():\n",
        "    stop_words = set(stopwords.words(lang))\n",
        "    example['utt'] = ' '.join([word for word in example['utt'].split() if word.lower() not in stop_words])\n",
        "  return example\n",
        "\n",
        "\n",
        "\n",
        "# Apply stopword removal to all splits\n",
        "dataset3 = dataset2.map(remove_stopwords, batched=False, desc=\"Removing stopwords\")\n",
        "\n",
        "# Print an example to verify\n",
        "print(dataset3.shape)\n",
        "print(dataset3['train'][0])"
      ],
      "metadata": {
        "colab": {
          "base_uri": "https://localhost:8080/",
          "height": 142,
          "referenced_widgets": [
            "d06752efd59f4e9ea8f40004d55fe275",
            "f56b9e3a7e6c4fedb3a12fb9d8faab2c",
            "d64bd1c8b8b347189c72b863d9884e10",
            "a40c3f0477314f03b4afd88f0c5547c3",
            "bb344fcf3c89447285baa244d9574ddf",
            "69fadc31b737485b861bcfeeff34e3b3",
            "4f456f2118f14fa29fb062f638dbf159",
            "90a71cbb49ee4c139e73c6eb1f82a9d5",
            "52e7c910a2564dc69bcf2ced6d71f17d",
            "bcbb2320b21a4977954345361d8cf9bc",
            "d322ad88cca34f6d918eae473ef1f866"
          ]
        },
        "id": "-ytgGIEgEZyP",
        "outputId": "7851ab63-61e5-48b3-e567-9ba99f012b6f"
      },
      "execution_count": 12,
      "outputs": [
        {
          "output_type": "stream",
          "name": "stderr",
          "text": [
            "Parameter 'function'=<function remove_stopwords at 0x7f674fdfc9d0> of the transform datasets.arrow_dataset.Dataset._map_single couldn't be hashed properly, a random hash was used instead. Make sure your transforms and parameters are serializable with pickle or dill for the dataset fingerprinting and caching to work. If you reuse this transform, the caching mechanism will consider it to be different from the previous calls and recompute everything. This warning is only showed once. Subsequent hashing failures won't be showed.\n",
            "WARNING:datasets.fingerprint:Parameter 'function'=<function remove_stopwords at 0x7f674fdfc9d0> of the transform datasets.arrow_dataset.Dataset._map_single couldn't be hashed properly, a random hash was used instead. Make sure your transforms and parameters are serializable with pickle or dill for the dataset fingerprinting and caching to work. If you reuse this transform, the caching mechanism will consider it to be different from the previous calls and recompute everything. This warning is only showed once. Subsequent hashing failures won't be showed.\n"
          ]
        },
        {
          "output_type": "display_data",
          "data": {
            "text/plain": [
              "Removing stopwords:   0%|          | 0/310878 [00:00<?, ? examples/s]"
            ],
            "application/vnd.jupyter.widget-view+json": {
              "version_major": 2,
              "version_minor": 0,
              "model_id": "d06752efd59f4e9ea8f40004d55fe275"
            }
          },
          "metadata": {}
        },
        {
          "output_type": "stream",
          "name": "stdout",
          "text": [
            "{'train': (310878, 12), 'validation': (54891, 12), 'test': (80298, 12)}\n",
            "{'id': '1', 'locale': 'af-ZA', 'partition': 'train', 'scenario': 9, 'intent': 55, 'utt': 'maak my wakker negeuur v m op vrydag', 'annot_utt': 'maak my wakker [time : nege-uur v. m.] op [date : vrydag]', 'tokens': ['maak', 'my', 'wakker', 'nege-uur', 'v.', 'm.', 'op', 'vrydag'], 'ner_tags': [0, 0, 0, 60, 16, 16, 0, 7], 'worker_id': '20', 'slot_method': {'slot': ['time', 'date'], 'method': ['translation', 'translation']}, 'judgments': {'worker_id': ['40', '49', '20'], 'intent_score': [1, 1, 1], 'slots_score': [1, 1, 1], 'grammar_score': [4, 4, 4], 'spelling_score': [2, 2, 2], 'language_identification': ['target', 'target', 'target']}}\n"
          ]
        }
      ]
    },
    {
      "cell_type": "code",
      "execution_count": 13,
      "metadata": {
        "id": "QJc8QQVAePe7",
        "colab": {
          "base_uri": "https://localhost:8080/",
          "height": 113,
          "referenced_widgets": [
            "3491a07307544221a981ea3fb5c30129",
            "24405879661c4d19a2db6dd2b767153e",
            "32def07271a0488a952fdd65f50091f5",
            "f229c4899410446b9a52dfaa47db5842",
            "78a1e6b15b21459bbc40f5fc6c564c4d",
            "c8c182cd07c443ac8f39aedd9175b247",
            "03b26c19cabf439185b2f7ef9a607b0f",
            "631bc49732664ed5a9fc62fecb324a39",
            "ba533134a6dc47a4b5710f7e84f4d713",
            "65ae0fc76e114f8f82759ec2ee09a398",
            "a1924e0154ea4ee3865420ad34848d24",
            "c01aec0ff2384e53a2c7e872f78141a1",
            "e18964bc56ec478fa95366ac6db42c76",
            "6a82409939954afeba050210d32b906d",
            "b74f7bca647340bda228beece52f8d39",
            "e287d51cd054468ab4f0e40d923e54d5",
            "4bc6161e7f3b4d2695185df94c077563",
            "7315056060124cc997369974ec1bd35f",
            "5bf7b93cc0d044448359aadb61ccd637",
            "a48d02ab36214eecbe6247a0bfc34a5d",
            "6bc941af03254acba2052cdad734df9b",
            "364f8fe2b8a74da2ae4a528f848c8067",
            "11f164c992ef4eb188aa475d86f1df5e",
            "255739cfc3f446dcbdde28f49363c42b",
            "4fea65fa507d4820b6572a149f479710",
            "fd5bc6937b4444218349882d40088b71",
            "c19c444e8cc8457db0555484bb3e0753",
            "9120c96279fa4ab79047e461055c905e",
            "32542491424748e59482599d3acac325",
            "1971ac3e9b474cd69266c6d8039c5518",
            "30590cba93254471ac9ad7103f83f385",
            "62bbbbe2d85442b7ba535296ecd32831",
            "24e99ad3ed3147f9a9ade7f1871ced6a"
          ]
        },
        "outputId": "109e29f4-9b42-40c0-aa39-99dac71fe391"
      },
      "outputs": [
        {
          "output_type": "display_data",
          "data": {
            "text/plain": [
              "Saving the dataset (0/1 shards):   0%|          | 0/310878 [00:00<?, ? examples/s]"
            ],
            "application/vnd.jupyter.widget-view+json": {
              "version_major": 2,
              "version_minor": 0,
              "model_id": "3491a07307544221a981ea3fb5c30129"
            }
          },
          "metadata": {}
        },
        {
          "output_type": "display_data",
          "data": {
            "text/plain": [
              "Saving the dataset (0/1 shards):   0%|          | 0/54891 [00:00<?, ? examples/s]"
            ],
            "application/vnd.jupyter.widget-view+json": {
              "version_major": 2,
              "version_minor": 0,
              "model_id": "c01aec0ff2384e53a2c7e872f78141a1"
            }
          },
          "metadata": {}
        },
        {
          "output_type": "display_data",
          "data": {
            "text/plain": [
              "Saving the dataset (0/1 shards):   0%|          | 0/80298 [00:00<?, ? examples/s]"
            ],
            "application/vnd.jupyter.widget-view+json": {
              "version_major": 2,
              "version_minor": 0,
              "model_id": "11f164c992ef4eb188aa475d86f1df5e"
            }
          },
          "metadata": {}
        }
      ],
      "source": [
        "dataset3.save_to_disk(os.path.join(drive_folder,'cleaned_data'))\n"
      ]
    },
    {
      "cell_type": "code",
      "source": [
        "# file_path = '/content/drive/My Drive/assignment_data/dal/assign6/locale_files/cleaned_data'  # Same path used for saving\n",
        "\n",
        "# # Load the dataset\n",
        "# dataset3 = datasets.load_from_disk(file_path)"
      ],
      "metadata": {
        "id": "NmCfLf_1OQac"
      },
      "execution_count": 14,
      "outputs": []
    },
    {
      "cell_type": "markdown",
      "source": [
        "# Task 2 [15 points]\n",
        "## Build a multinomial Naive Bayes classifier on your 27 language dataset using the ‘training’ partition of the dataset.\n",
        "\n"
      ],
      "metadata": {
        "id": "HYbuWdoScmFy"
      }
    },
    {
      "cell_type": "code",
      "execution_count": 20,
      "metadata": {
        "id": "fmH8F7L9ML3p"
      },
      "outputs": [],
      "source": [
        "from sklearn.feature_extraction.text import CountVectorizer\n",
        "from sklearn.naive_bayes import MultinomialNB\n",
        "from sklearn.metrics import accuracy_score, precision_score, recall_score, f1_score\n",
        "\n",
        "# Combine the training and validation datasets for training\n",
        "train_texts = [example['utt'] for example in dataset3['train']]\n",
        "train_labels = [example['locale'] for example in dataset3['train']]\n",
        "val_texts = [example['utt'] for example in dataset3['validation']]\n",
        "val_labels = [example['locale'] for example in dataset3['validation']]\n",
        "test_texts = [example['utt'] for example in dataset3['test']]\n",
        "test_labels = [example['locale'] for example in dataset3['test']]\n",
        "\n",
        "\n",
        "\n",
        "\n"
      ]
    },
    {
      "cell_type": "markdown",
      "source": [
        " ## Finetune the model with the validation partition."
      ],
      "metadata": {
        "id": "MEOmU_xPe1gH"
      }
    },
    {
      "cell_type": "code",
      "source": [
        "\n",
        "max_feature_set = [1000,10000,100000,1000000]\n",
        "accuracy_list = []\n",
        "for max_feature in max_feature_set:\n",
        "  vectorizer = CountVectorizer(max_features=max_feature)\n",
        "  X_train = vectorizer.fit_transform(train_texts)\n",
        "  X_test = vectorizer.transform(val_texts)\n",
        "\n",
        "\n",
        "  # Train a Multinomial Naive Bayes classifier\n",
        "  classifier = MultinomialNB()\n",
        "  classifier.fit(X_train, train_labels)\n",
        "\n",
        "  # Predict the labels for the test set\n",
        "  y_pred = classifier.predict(X_test)\n",
        "\n",
        "  # Calculate performance metrics for the test set\n",
        "  accuracy = accuracy_score(test_labels, y_pred)\n",
        "  accuracy_list.append(accuracy)\n"
      ],
      "metadata": {
        "id": "or48kDkqe96u"
      },
      "execution_count": null,
      "outputs": []
    },
    {
      "cell_type": "markdown",
      "source": [
        "## max feature 10000 is choosen as it gives reasonable performance in limited compute time"
      ],
      "metadata": {
        "id": "aRpJoL4SgXZ3"
      }
    },
    {
      "cell_type": "code",
      "source": [
        "# Create a CountVectorizer to convert text into a matrix of token counts\n",
        "vectorizer = CountVectorizer(max_features=10000)\n",
        "X_train = vectorizer.fit_transform(train_texts)\n",
        "X_test = vectorizer.transform(test_texts)"
      ],
      "metadata": {
        "id": "27sAUKYoeyVN"
      },
      "execution_count": null,
      "outputs": []
    },
    {
      "cell_type": "markdown",
      "source": [
        "## Perfomance metrics is plotted below"
      ],
      "metadata": {
        "id": "6C9VsOO3elx8"
      }
    },
    {
      "cell_type": "code",
      "execution_count": 31,
      "metadata": {
        "colab": {
          "base_uri": "https://localhost:8080/"
        },
        "id": "fyBcFg-rNS4z",
        "outputId": "3269e0b3-b901-4fe8-96c4-560f0623a462"
      },
      "outputs": [
        {
          "output_type": "stream",
          "name": "stdout",
          "text": [
            "Test Set Performance:\n",
            "Accuracy: 0.8031208747415876\n",
            "Precision: 0.8879937816312866\n",
            "Recall: 0.8031208747415876\n",
            "F1-Score: 0.8312531014433796\n",
            "Test Set Performance:\n",
            "Accuracy: 0.8133544348586905\n",
            "Precision: 0.8935463014041386\n",
            "Recall: 0.8133544348586905\n",
            "F1-Score: 0.8399956584319437\n",
            "Validation Set Performance:\n",
            "Accuracy: 0.8129565866899856\n",
            "Precision: 0.8926290598715652\n",
            "Recall: 0.8129565866899856\n",
            "F1-Score: 0.8395494848178158\n"
          ]
        }
      ],
      "source": [
        "\n",
        "# Train a Multinomial Naive Bayes classifier\n",
        "classifier = MultinomialNB()\n",
        "classifier.fit(X_train, train_labels)\n",
        "\n",
        "# Predict the labels for the test set\n",
        "y_pred = classifier.predict(X_test)\n",
        "\n",
        "# Calculate performance metrics for the test set\n",
        "accuracy = accuracy_score(test_labels, y_pred)\n",
        "precision = precision_score(test_labels, y_pred, average='weighted')\n",
        "recall = recall_score(test_labels, y_pred, average='weighted')\n",
        "f1 = f1_score(test_labels, y_pred, average='weighted')\n",
        "\n",
        "print(\"Test Set Performance:\")\n",
        "print(\"Accuracy:\", accuracy)\n",
        "print(\"Precision:\", precision)\n",
        "print(\"Recall:\", recall)\n",
        "print(\"F1-Score:\", f1)\n",
        "\n",
        "# Now, let's evaluate the performance on the training\n",
        "y_train_pred = classifier.predict(vectorizer.transform(train_texts))\n",
        "# Calculate performance metrics for the train set\n",
        "accuracy = accuracy_score(train_labels, y_train_pred)\n",
        "precision = precision_score(train_labels, y_train_pred, average='weighted')\n",
        "recall = recall_score(train_labels, y_train_pred, average='weighted')\n",
        "f1 = f1_score(train_labels, y_train_pred, average='weighted')\n",
        "\n",
        "print(\"Test Set Performance:\")\n",
        "print(\"Accuracy:\", accuracy)\n",
        "print(\"Precision:\", precision)\n",
        "print(\"Recall:\", recall)\n",
        "print(\"F1-Score:\", f1)\n",
        "\n",
        "print(\"Train Set Performance:\")\n",
        "# Now, let's evaluate the performance on the training\n",
        "y_val_pred = classifier.predict(vectorizer.transform(val_texts))\n",
        "# Calculate performance metrics for the val set\n",
        "accuracy = accuracy_score(val_labels, y_val_pred)\n",
        "precision = precision_score(val_labels, y_val_pred, average='weighted')\n",
        "recall = recall_score(val_labels, y_val_pred, average='weighted')\n",
        "f1 = f1_score(val_labels, y_val_pred, average='weighted')\n",
        "\n",
        "\n",
        "print(\"Validation Set Performance:\")\n",
        "print(\"Accuracy:\", accuracy)\n",
        "print(\"Precision:\", precision)\n",
        "print(\"Recall:\", recall)\n",
        "print(\"F1-Score:\", f1)\n"
      ]
    },
    {
      "cell_type": "code",
      "source": [
        "import matplotlib.pyplot as plt\n",
        "import numpy as np\n",
        "\n",
        "# Data\n",
        "metrics = ['Accuracy', 'Precision', 'Recall', 'F1-Score']\n",
        "test1_scores = [0.8031, 0.8880, 0.8031, 0.8313]  # Rounded for brevity\n",
        "test2_scores = [0.8134, 0.8935, 0.8134, 0.8400]  # Rounded for brevity\n",
        "val_scores = [0.8130, 0.8926, 0.8130, 0.840]  # Assuming F1-Score is missing\n",
        "\n",
        "# Bar positions\n",
        "x = np.arange(len(metrics))\n",
        "width = 0.2\n",
        "\n",
        "# Create bar plot\n",
        "fig, ax = plt.subplots()\n",
        "rects1 = ax.bar(x - width, test1_scores, width, label='Test 1')\n",
        "rects2 = ax.bar(x, test2_scores, width, label='Test 2')\n",
        "rects3 = ax.bar(x + width, val_scores, width, label='Validation')\n",
        "\n",
        "# Labels and title\n",
        "ax.set_ylabel('Scores')\n",
        "ax.set_title('Model Performance Comparison')\n",
        "ax.set_xticks(x)\n",
        "ax.set_xticklabels(metrics)\n",
        "ax.legend()\n",
        "\n",
        "# Display plot\n",
        "plt.show()"
      ],
      "metadata": {
        "colab": {
          "base_uri": "https://localhost:8080/",
          "height": 452
        },
        "id": "wprI94y4Xvac",
        "outputId": "237fa2ea-7515-4ce0-f3ac-a63a9cd62ab3"
      },
      "execution_count": 35,
      "outputs": [
        {
          "output_type": "display_data",
          "data": {
            "text/plain": [
              "<Figure size 640x480 with 1 Axes>"
            ],
            "image/png": "[encoded data removed]"
          },
          "metadata": {}
        }
      ]
    },
    {
      "cell_type": "markdown",
      "source": [
        "# Task 3 [20 points]\n",
        "Convert further your 27 language dataset into language groups, where the grouping is via their respective\n",
        "continent names. It appears that the dataset has Asia, Africa, Europe, and North america. So, you will have\n",
        "four classes now. Collapse the dataset into 4 classes by appending the files into large files.\n",
        "Build a Regularized Discriminant Analysis (RDA) model, which has a hyper-parameter lambda to tradeoff\n",
        "between LDA and QDA. You may use bag-of-words via CountVectorizer or Tfidf Vectorizer to create the feature\n",
        "space of your dataset. It will be a huge feature space, but LDA/QDA can handle large feature spaces, so no"
      ],
      "metadata": {
        "id": "4FWdARRjhFtc"
      }
    },
    {
      "cell_type": "code",
      "source": [
        "import pandas as pd\n",
        "import os\n",
        "\n",
        "# Define language-continent mapping\n",
        "language_continent_mapping = {\n",
        "    \"af-ZA\": \"Africa\",\n",
        "    \"da-DK\": \"Europe\",\n",
        "    \"de-DE\": \"Europe\",\n",
        "    \"en-US\": \"North America\",\n",
        "    \"es-ES\": \"Europe\",\n",
        "    \"fr-FR\": \"Europe\",\n",
        "    \"fi-FI\": \"Europe\",\n",
        "    \"hu-HU\": \"Europe\",\n",
        "    \"is-IS\": \"Europe\",\n",
        "    \"it-IT\": \"Europe\",\n",
        "    \"jv-ID\": \"Asia\",\n",
        "    \"lv-LV\": \"Europe\",\n",
        "    \"ms-MY\": \"Asia\",\n",
        "    \"nb-NO\": \"Europe\",\n",
        "    \"nl-NL\": \"Europe\",\n",
        "    \"pl-PL\": \"Europe\",\n",
        "    \"pt-PT\": \"Europe\",\n",
        "    \"ro-RO\": \"Europe\",\n",
        "    \"ru-RU\": \"Europe\",  # Or Asia, depending on your classification\n",
        "    \"sl-SL\": \"Europe\",\n",
        "    \"sv-SE\": \"Europe\",\n",
        "    \"sq-AL\": \"Europe\",\n",
        "    \"sw-KE\": \"Africa\",\n",
        "    \"tl-PH\": \"Asia\",\n",
        "    \"tr-TR\": \"Europe\",  # Or Asia, depending on your classification\n",
        "    \"vi-VN\": \"Asia\",\n",
        "    \"cy-GB\": \"Europe\",\n",
        "}\n",
        "\n",
        "# Define output folder\n",
        "output_folder = \"continent_grouped_data\"\n",
        "os.makedirs(output_folder, exist_ok=True)\n",
        "\n",
        "\n",
        "# Specify the destination folder in Google Drive\n",
        "drive_folder = '/content/drive/My Drive/assignment_data/dal/assign6/locale_files'  # Change to your desired folder\n",
        "\n",
        "# Load and group data\n",
        "for continent in [\"Asia\", \"Africa\", \"Europe\", \"North America\"]:\n",
        "    continent_data = []\n",
        "    for locale, cont in language_continent_mapping.items():\n",
        "        if cont == continent:\n",
        "            # Assuming your data is in CSV format, adjust accordingly\n",
        "            file_path = f\"{drive_folder}/{locale}.txt\"\n",
        "            df = pd.read_csv(file_path)\n",
        "            continent_data.append(df)\n",
        "\n",
        "    # Concatenate data for the continent\n",
        "    continent_df = pd.concat(continent_data)\n",
        "\n",
        "    # Save to a single file\n",
        "    output_file = os.path.join(output_folder, f\"{continent}.csv\")\n",
        "    continent_df.to_csv(output_file, index=False)\n",
        "\n",
        "print(\"Data grouped and saved by continent.\")"
      ],
      "metadata": {
        "id": "pa3KBffuhZQi"
      },
      "execution_count": null,
      "outputs": []
    },
    {
      "cell_type": "code",
      "source": [
        "from sklearn.feature_extraction.text import CountVectorizer\n",
        "from sklearn.naive_bayes import MultinomialNB\n",
        "from sklearn.metrics import accuracy_score, precision_score, recall_score, f1_score\n",
        "\n",
        "# Combine the training and validation datasets for training\n",
        "train_texts = [example['utt'] for example in loaded_dataset['train']]\n",
        "train_labels = [example['locale'] for example in loaded_dataset['train']]\n",
        "val_texts = [example['utt'] for example in loaded_dataset['validation']]\n",
        "val_labels = [example['locale'] for example in loaded_dataset['validation']]\n",
        "test_texts = [example['utt'] for example in loaded_dataset['test']]\n",
        "test_labels = [example['locale'] for example in loaded_dataset['test']]\n",
        "\n",
        "\n",
        "\n",
        "\n",
        "# Create a CountVectorizer to convert text into a matrix of token counts\n",
        "vectorizer = CountVectorizer(max_features=1000)\n",
        "X_train = vectorizer.fit_transform(train_texts)\n",
        "X_test = vectorizer.transform(test_texts)"
      ],
      "metadata": {
        "id": "NXpOlHOJW4Ia"
      },
      "execution_count": 22,
      "outputs": []
    },
    {
      "cell_type": "code",
      "source": [
        "from sklearn.decomposition import PCA\n",
        "\n",
        "# Create a PCA object\n",
        "pca = PCA(n_components=500)\n",
        "\n",
        "# Fit PCA on the training data and transform it\n",
        "X_train_pca = pca.fit_transform(X_train.toarray())\n",
        "\n",
        "# Transform the test data using the fitted PCA object\n",
        "X_test_pca = pca.transform(X_test.toarray())\n",
        "\n",
        "print(\"PCA completed.\")\n",
        "print(\"Shape of X_train_pca:\", X_train_pca.shape)\n",
        "print(\"Shape of X_test_pca:\", X_test_pca.shape)\n"
      ],
      "metadata": {
        "colab": {
          "base_uri": "https://localhost:8080/"
        },
        "id": "UX4WbPF8XOSS",
        "outputId": "2ac5f7e4-40bb-4221-ea66-30111d681df6"
      },
      "execution_count": 26,
      "outputs": [
        {
          "output_type": "stream",
          "name": "stdout",
          "text": [
            "PCA completed.\n",
            "Shape of X_train_pca: (365769, 500)\n",
            "Shape of X_test_pca: (80298, 500)\n"
          ]
        }
      ]
    },
    {
      "cell_type": "markdown",
      "source": [],
      "metadata": {
        "id": "X0EElYEdYAHA"
      }
    },
    {
      "cell_type": "code",
      "source": [
        "from sklearn.discriminant_analysis import LinearDiscriminantAnalysis\n",
        "from sklearn.model_selection import GridSearchCV\n",
        "\n",
        "# Create an RDA model (which is essentially a Linear Discriminant Analysis with a regularization parameter)\n",
        "lda = LinearDiscriminantAnalysis(solver='lsqr')  # Use SVD solver for stability\n",
        "\n",
        "# Define a range of lambda values to search over for regularization\n",
        "parameters = {'shrinkage': [0.1, 0.5, 1.0]}  # Adjust the range of lambda values as needed\n",
        "\n",
        "# Use GridSearchCV to find the best lambda value\n",
        "# (or other hyperparameter tuning methods you prefer)\n",
        "clf = GridSearchCV(lda, parameters, scoring='accuracy', cv=5)\n",
        "\n",
        "# Fit the RDA model using the PCA-reduced features\n",
        "clf.fit(X_train_pca, train_texts)\n",
        "\n",
        "# Print the best lambda (or other hyperparameter) value found by GridSearchCV\n",
        "print(\"Best reg_param:\", clf.best_params_)\n",
        "\n",
        "# Make predictions on the test set using the best RDA model\n",
        "y_pred = clf.predict(X_test_pca)\n",
        "\n",
        "# Calculate performance metrics for the RDA model\n",
        "accuracy = accuracy_score(test_labels, y_pred)\n",
        "precision = precision_score(test_labels, y_pred, average='weighted')\n",
        "recall = recall_score(test_labels, y_pred, average='weighted')\n",
        "f1 = f1_score(test_labels, y_pred, average='weighted')\n",
        "\n",
        "print(\"RDA Model Test Set Performance:\")\n",
        "print(\"Accuracy:\", accuracy)\n",
        "print(\"Precision:\", precision)\n",
        "print(\"Recall:\", recall)\n",
        "print(\"F1-Score:\", f1)"
      ],
      "metadata": {
        "colab": {
          "base_uri": "https://localhost:8080/"
        },
        "id": "mfLAwKQbXaPT",
        "outputId": "c6a11fe2-b242-4e0e-949f-15dfdd6b6f43"
      },
      "execution_count": 27,
      "outputs": [
        {
          "output_type": "stream",
          "name": "stdout",
          "text": [
            "Best reg_param: {'shrinkage': 0.1}\n",
            "RDA Model Test Set Performance:\n",
            "Accuracy: 0.7511768661735037\n",
            "Precision: 0.8901527632108871\n",
            "Recall: 0.7511768661735037\n",
            "F1-Score: 0.7988950753004384\n"
          ]
        }
      ]
    },
    {
      "cell_type": "code",
      "source": [],
      "metadata": {
        "id": "02SREH9XZKQU"
      },
      "execution_count": null,
      "outputs": []
    }
  ],
  "metadata": {
    "colab": {
      "provenance": []
    },
    "kernelspec": {
      "display_name": "Python 3",
      "name": "python3"
    },
    "language_info": {
      "name": "python"
    },
    "widgets": {
      "application/vnd.jupyter.widget-state+json": {
        "d06752efd59f4e9ea8f40004d55fe275": {
          "model_module": "@jupyter-widgets/controls",
          "model_name": "HBoxModel",
          "model_module_version": "1.5.0",
          "state": {
            "_dom_classes": [],
            "_model_module": "@jupyter-widgets/controls",
            "_model_module_version": "1.5.0",
            "_model_name": "HBoxModel",
            "_view_count": null,
            "_view_module": "@jupyter-widgets/controls",
            "_view_module_version": "1.5.0",
            "_view_name": "HBoxView",
            "box_style": "",
            "children": [
              "IPY_MODEL_f56b9e3a7e6c4fedb3a12fb9d8faab2c",
              "IPY_MODEL_d64bd1c8b8b347189c72b863d9884e10",
              "IPY_MODEL_a40c3f0477314f03b4afd88f0c5547c3"
            ],
            "layout": "IPY_MODEL_bb344fcf3c89447285baa244d9574ddf"
          }
        },
        "f56b9e3a7e6c4fedb3a12fb9d8faab2c": {
          "model_module": "@jupyter-widgets/controls",
          "model_name": "HTMLModel",
          "model_module_version": "1.5.0",
          "state": {
            "_dom_classes": [],
            "_model_module": "@jupyter-widgets/controls",
            "_model_module_version": "1.5.0",
            "_model_name": "HTMLModel",
            "_view_count": null,
            "_view_module": "@jupyter-widgets/controls",
            "_view_module_version": "1.5.0",
            "_view_name": "HTMLView",
            "description": "",
            "description_tooltip": null,
            "layout": "IPY_MODEL_69fadc31b737485b861bcfeeff34e3b3",
            "placeholder": "​",
            "style": "IPY_MODEL_4f456f2118f14fa29fb062f638dbf159",
            "value": "Removing stopwords: 100%"
          }
        },
        "d64bd1c8b8b347189c72b863d9884e10": {
          "model_module": "@jupyter-widgets/controls",
          "model_name": "FloatProgressModel",
          "model_module_version": "1.5.0",
          "state": {
            "_dom_classes": [],
            "_model_module": "@jupyter-widgets/controls",
            "_model_module_version": "1.5.0",
            "_model_name": "FloatProgressModel",
            "_view_count": null,
            "_view_module": "@jupyter-widgets/controls",
            "_view_module_version": "1.5.0",
            "_view_name": "ProgressView",
            "bar_style": "success",
            "description": "",
            "description_tooltip": null,
            "layout": "IPY_MODEL_90a71cbb49ee4c139e73c6eb1f82a9d5",
            "max": 310878,
            "min": 0,
            "orientation": "horizontal",
            "style": "IPY_MODEL_52e7c910a2564dc69bcf2ced6d71f17d",
            "value": 310878
          }
        },
        "a40c3f0477314f03b4afd88f0c5547c3": {
          "model_module": "@jupyter-widgets/controls",
          "model_name": "HTMLModel",
          "model_module_version": "1.5.0",
          "state": {
            "_dom_classes": [],
            "_model_module": "@jupyter-widgets/controls",
            "_model_module_version": "1.5.0",
            "_model_name": "HTMLModel",
            "_view_count": null,
            "_view_module": "@jupyter-widgets/controls",
            "_view_module_version": "1.5.0",
            "_view_name": "HTMLView",
            "description": "",
            "description_tooltip": null,
            "layout": "IPY_MODEL_bcbb2320b21a4977954345361d8cf9bc",
            "placeholder": "​",
            "style": "IPY_MODEL_d322ad88cca34f6d918eae473ef1f866",
            "value": " 310878/310878 [02:24&lt;00:00, 4322.05 examples/s]"
          }
        },
        "bb344fcf3c89447285baa244d9574ddf": {
          "model_module": "@jupyter-widgets/base",
          "model_name": "LayoutModel",
          "model_module_version": "1.2.0",
          "state": {
            "_model_module": "@jupyter-widgets/base",
            "_model_module_version": "1.2.0",
            "_model_name": "LayoutModel",
            "_view_count": null,
            "_view_module": "@jupyter-widgets/base",
            "_view_module_version": "1.2.0",
            "_view_name": "LayoutView",
            "align_content": null,
            "align_items": null,
            "align_self": null,
            "border": null,
            "bottom": null,
            "display": null,
            "flex": null,
            "flex_flow": null,
            "grid_area": null,
            "grid_auto_columns": null,
            "grid_auto_flow": null,
            "grid_auto_rows": null,
            "grid_column": null,
            "grid_gap": null,
            "grid_row": null,
            "grid_template_areas": null,
            "grid_template_columns": null,
            "grid_template_rows": null,
            "height": null,
            "justify_content": null,
            "justify_items": null,
            "left": null,
            "margin": null,
            "max_height": null,
            "max_width": null,
            "min_height": null,
            "min_width": null,
            "object_fit": null,
            "object_position": null,
            "order": null,
            "overflow": null,
            "overflow_x": null,
            "overflow_y": null,
            "padding": null,
            "right": null,
            "top": null,
            "visibility": null,
            "width": null
          }
        },
        "69fadc31b737485b861bcfeeff34e3b3": {
          "model_module": "@jupyter-widgets/base",
          "model_name": "LayoutModel",
          "model_module_version": "1.2.0",
          "state": {
            "_model_module": "@jupyter-widgets/base",
            "_model_module_version": "1.2.0",
            "_model_name": "LayoutModel",
            "_view_count": null,
            "_view_module": "@jupyter-widgets/base",
            "_view_module_version": "1.2.0",
            "_view_name": "LayoutView",
            "align_content": null,
            "align_items": null,
            "align_self": null,
            "border": null,
            "bottom": null,
            "display": null,
            "flex": null,
            "flex_flow": null,
            "grid_area": null,
            "grid_auto_columns": null,
            "grid_auto_flow": null,
            "grid_auto_rows": null,
            "grid_column": null,
            "grid_gap": null,
            "grid_row": null,
            "grid_template_areas": null,
            "grid_template_columns": null,
            "grid_template_rows": null,
            "height": null,
            "justify_content": null,
            "justify_items": null,
            "left": null,
            "margin": null,
            "max_height": null,
            "max_width": null,
            "min_height": null,
            "min_width": null,
            "object_fit": null,
            "object_position": null,
            "order": null,
            "overflow": null,
            "overflow_x": null,
            "overflow_y": null,
            "padding": null,
            "right": null,
            "top": null,
            "visibility": null,
            "width": null
          }
        },
        "4f456f2118f14fa29fb062f638dbf159": {
          "model_module": "@jupyter-widgets/controls",
          "model_name": "DescriptionStyleModel",
          "model_module_version": "1.5.0",
          "state": {
            "_model_module": "@jupyter-widgets/controls",
            "_model_module_version": "1.5.0",
            "_model_name": "DescriptionStyleModel",
            "_view_count": null,
            "_view_module": "@jupyter-widgets/base",
            "_view_module_version": "1.2.0",
            "_view_name": "StyleView",
            "description_width": ""
          }
        },
        "90a71cbb49ee4c139e73c6eb1f82a9d5": {
          "model_module": "@jupyter-widgets/base",
          "model_name": "LayoutModel",
          "model_module_version": "1.2.0",
          "state": {
            "_model_module": "@jupyter-widgets/base",
            "_model_module_version": "1.2.0",
            "_model_name": "LayoutModel",
            "_view_count": null,
            "_view_module": "@jupyter-widgets/base",
            "_view_module_version": "1.2.0",
            "_view_name": "LayoutView",
            "align_content": null,
            "align_items": null,
            "align_self": null,
            "border": null,
            "bottom": null,
            "display": null,
            "flex": null,
            "flex_flow": null,
            "grid_area": null,
            "grid_auto_columns": null,
            "grid_auto_flow": null,
            "grid_auto_rows": null,
            "grid_column": null,
            "grid_gap": null,
            "grid_row": null,
            "grid_template_areas": null,
            "grid_template_columns": null,
            "grid_template_rows": null,
            "height": null,
            "justify_content": null,
            "justify_items": null,
            "left": null,
            "margin": null,
            "max_height": null,
            "max_width": null,
            "min_height": null,
            "min_width": null,
            "object_fit": null,
            "object_position": null,
            "order": null,
            "overflow": null,
            "overflow_x": null,
            "overflow_y": null,
            "padding": null,
            "right": null,
            "top": null,
            "visibility": null,
            "width": null
          }
        },
        "52e7c910a2564dc69bcf2ced6d71f17d": {
          "model_module": "@jupyter-widgets/controls",
          "model_name": "ProgressStyleModel",
          "model_module_version": "1.5.0",
          "state": {
            "_model_module": "@jupyter-widgets/controls",
            "_model_module_version": "1.5.0",
            "_model_name": "ProgressStyleModel",
            "_view_count": null,
            "_view_module": "@jupyter-widgets/base",
            "_view_module_version": "1.2.0",
            "_view_name": "StyleView",
            "bar_color": null,
            "description_width": ""
          }
        },
        "bcbb2320b21a4977954345361d8cf9bc": {
          "model_module": "@jupyter-widgets/base",
          "model_name": "LayoutModel",
          "model_module_version": "1.2.0",
          "state": {
            "_model_module": "@jupyter-widgets/base",
            "_model_module_version": "1.2.0",
            "_model_name": "LayoutModel",
            "_view_count": null,
            "_view_module": "@jupyter-widgets/base",
            "_view_module_version": "1.2.0",
            "_view_name": "LayoutView",
            "align_content": null,
            "align_items": null,
            "align_self": null,
            "border": null,
            "bottom": null,
            "display": null,
            "flex": null,
            "flex_flow": null,
            "grid_area": null,
            "grid_auto_columns": null,
            "grid_auto_flow": null,
            "grid_auto_rows": null,
            "grid_column": null,
            "grid_gap": null,
            "grid_row": null,
            "grid_template_areas": null,
            "grid_template_columns": null,
            "grid_template_rows": null,
            "height": null,
            "justify_content": null,
            "justify_items": null,
            "left": null,
            "margin": null,
            "max_height": null,
            "max_width": null,
            "min_height": null,
            "min_width": null,
            "object_fit": null,
            "object_position": null,
            "order": null,
            "overflow": null,
            "overflow_x": null,
            "overflow_y": null,
            "padding": null,
            "right": null,
            "top": null,
            "visibility": null,
            "width": null
          }
        },
        "d322ad88cca34f6d918eae473ef1f866": {
          "model_module": "@jupyter-widgets/controls",
          "model_name": "DescriptionStyleModel",
          "model_module_version": "1.5.0",
          "state": {
            "_model_module": "@jupyter-widgets/controls",
            "_model_module_version": "1.5.0",
            "_model_name": "DescriptionStyleModel",
            "_view_count": null,
            "_view_module": "@jupyter-widgets/base",
            "_view_module_version": "1.2.0",
            "_view_name": "StyleView",
            "description_width": ""
          }
        },
        "3491a07307544221a981ea3fb5c30129": {
          "model_module": "@jupyter-widgets/controls",
          "model_name": "HBoxModel",
          "model_module_version": "1.5.0",
          "state": {
            "_dom_classes": [],
            "_model_module": "@jupyter-widgets/controls",
            "_model_module_version": "1.5.0",
            "_model_name": "HBoxModel",
            "_view_count": null,
            "_view_module": "@jupyter-widgets/controls",
            "_view_module_version": "1.5.0",
            "_view_name": "HBoxView",
            "box_style": "",
            "children": [
              "IPY_MODEL_24405879661c4d19a2db6dd2b767153e",
              "IPY_MODEL_32def07271a0488a952fdd65f50091f5",
              "IPY_MODEL_f229c4899410446b9a52dfaa47db5842"
            ],
            "layout": "IPY_MODEL_78a1e6b15b21459bbc40f5fc6c564c4d"
          }
        },
        "24405879661c4d19a2db6dd2b767153e": {
          "model_module": "@jupyter-widgets/controls",
          "model_name": "HTMLModel",
          "model_module_version": "1.5.0",
          "state": {
            "_dom_classes": [],
            "_model_module": "@jupyter-widgets/controls",
            "_model_module_version": "1.5.0",
            "_model_name": "HTMLModel",
            "_view_count": null,
            "_view_module": "@jupyter-widgets/controls",
            "_view_module_version": "1.5.0",
            "_view_name": "HTMLView",
            "description": "",
            "description_tooltip": null,
            "layout": "IPY_MODEL_c8c182cd07c443ac8f39aedd9175b247",
            "placeholder": "​",
            "style": "IPY_MODEL_03b26c19cabf439185b2f7ef9a607b0f",
            "value": "Saving the dataset (1/1 shards): 100%"
          }
        },
        "32def07271a0488a952fdd65f50091f5": {
          "model_module": "@jupyter-widgets/controls",
          "model_name": "FloatProgressModel",
          "model_module_version": "1.5.0",
          "state": {
            "_dom_classes": [],
            "_model_module": "@jupyter-widgets/controls",
            "_model_module_version": "1.5.0",
            "_model_name": "FloatProgressModel",
            "_view_count": null,
            "_view_module": "@jupyter-widgets/controls",
            "_view_module_version": "1.5.0",
            "_view_name": "ProgressView",
            "bar_style": "success",
            "description": "",
            "description_tooltip": null,
            "layout": "IPY_MODEL_631bc49732664ed5a9fc62fecb324a39",
            "max": 310878,
            "min": 0,
            "orientation": "horizontal",
            "style": "IPY_MODEL_ba533134a6dc47a4b5710f7e84f4d713",
            "value": 310878
          }
        },
        "f229c4899410446b9a52dfaa47db5842": {
          "model_module": "@jupyter-widgets/controls",
          "model_name": "HTMLModel",
          "model_module_version": "1.5.0",
          "state": {
            "_dom_classes": [],
            "_model_module": "@jupyter-widgets/controls",
            "_model_module_version": "1.5.0",
            "_model_name": "HTMLModel",
            "_view_count": null,
            "_view_module": "@jupyter-widgets/controls",
            "_view_module_version": "1.5.0",
            "_view_name": "HTMLView",
            "description": "",
            "description_tooltip": null,
            "layout": "IPY_MODEL_65ae0fc76e114f8f82759ec2ee09a398",
            "placeholder": "​",
            "style": "IPY_MODEL_a1924e0154ea4ee3865420ad34848d24",
            "value": " 310878/310878 [00:01&lt;00:00, 201437.03 examples/s]"
          }
        },
        "78a1e6b15b21459bbc40f5fc6c564c4d": {
          "model_module": "@jupyter-widgets/base",
          "model_name": "LayoutModel",
          "model_module_version": "1.2.0",
          "state": {
            "_model_module": "@jupyter-widgets/base",
            "_model_module_version": "1.2.0",
            "_model_name": "LayoutModel",
            "_view_count": null,
            "_view_module": "@jupyter-widgets/base",
            "_view_module_version": "1.2.0",
            "_view_name": "LayoutView",
            "align_content": null,
            "align_items": null,
            "align_self": null,
            "border": null,
            "bottom": null,
            "display": null,
            "flex": null,
            "flex_flow": null,
            "grid_area": null,
            "grid_auto_columns": null,
            "grid_auto_flow": null,
            "grid_auto_rows": null,
            "grid_column": null,
            "grid_gap": null,
            "grid_row": null,
            "grid_template_areas": null,
            "grid_template_columns": null,
            "grid_template_rows": null,
            "height": null,
            "justify_content": null,
            "justify_items": null,
            "left": null,
            "margin": null,
            "max_height": null,
            "max_width": null,
            "min_height": null,
            "min_width": null,
            "object_fit": null,
            "object_position": null,
            "order": null,
            "overflow": null,
            "overflow_x": null,
            "overflow_y": null,
            "padding": null,
            "right": null,
            "top": null,
            "visibility": null,
            "width": null
          }
        },
        "c8c182cd07c443ac8f39aedd9175b247": {
          "model_module": "@jupyter-widgets/base",
          "model_name": "LayoutModel",
          "model_module_version": "1.2.0",
          "state": {
            "_model_module": "@jupyter-widgets/base",
            "_model_module_version": "1.2.0",
            "_model_name": "LayoutModel",
            "_view_count": null,
            "_view_module": "@jupyter-widgets/base",
            "_view_module_version": "1.2.0",
            "_view_name": "LayoutView",
            "align_content": null,
            "align_items": null,
            "align_self": null,
            "border": null,
            "bottom": null,
            "display": null,
            "flex": null,
            "flex_flow": null,
            "grid_area": null,
            "grid_auto_columns": null,
            "grid_auto_flow": null,
            "grid_auto_rows": null,
            "grid_column": null,
            "grid_gap": null,
            "grid_row": null,
            "grid_template_areas": null,
            "grid_template_columns": null,
            "grid_template_rows": null,
            "height": null,
            "justify_content": null,
            "justify_items": null,
            "left": null,
            "margin": null,
            "max_height": null,
            "max_width": null,
            "min_height": null,
            "min_width": null,
            "object_fit": null,
            "object_position": null,
            "order": null,
            "overflow": null,
            "overflow_x": null,
            "overflow_y": null,
            "padding": null,
            "right": null,
            "top": null,
            "visibility": null,
            "width": null
          }
        },
        "03b26c19cabf439185b2f7ef9a607b0f": {
          "model_module": "@jupyter-widgets/controls",
          "model_name": "DescriptionStyleModel",
          "model_module_version": "1.5.0",
          "state": {
            "_model_module": "@jupyter-widgets/controls",
            "_model_module_version": "1.5.0",
            "_model_name": "DescriptionStyleModel",
            "_view_count": null,
            "_view_module": "@jupyter-widgets/base",
            "_view_module_version": "1.2.0",
            "_view_name": "StyleView",
            "description_width": ""
          }
        },
        "631bc49732664ed5a9fc62fecb324a39": {
          "model_module": "@jupyter-widgets/base",
          "model_name": "LayoutModel",
          "model_module_version": "1.2.0",
          "state": {
            "_model_module": "@jupyter-widgets/base",
            "_model_module_version": "1.2.0",
            "_model_name": "LayoutModel",
            "_view_count": null,
            "_view_module": "@jupyter-widgets/base",
            "_view_module_version": "1.2.0",
            "_view_name": "LayoutView",
            "align_content": null,
            "align_items": null,
            "align_self": null,
            "border": null,
            "bottom": null,
            "display": null,
            "flex": null,
            "flex_flow": null,
            "grid_area": null,
            "grid_auto_columns": null,
            "grid_auto_flow": null,
            "grid_auto_rows": null,
            "grid_column": null,
            "grid_gap": null,
            "grid_row": null,
            "grid_template_areas": null,
            "grid_template_columns": null,
            "grid_template_rows": null,
            "height": null,
            "justify_content": null,
            "justify_items": null,
            "left": null,
            "margin": null,
            "max_height": null,
            "max_width": null,
            "min_height": null,
            "min_width": null,
            "object_fit": null,
            "object_position": null,
            "order": null,
            "overflow": null,
            "overflow_x": null,
            "overflow_y": null,
            "padding": null,
            "right": null,
            "top": null,
            "visibility": null,
            "width": null
          }
        },
        "ba533134a6dc47a4b5710f7e84f4d713": {
          "model_module": "@jupyter-widgets/controls",
          "model_name": "ProgressStyleModel",
          "model_module_version": "1.5.0",
          "state": {
            "_model_module": "@jupyter-widgets/controls",
            "_model_module_version": "1.5.0",
            "_model_name": "ProgressStyleModel",
            "_view_count": null,
            "_view_module": "@jupyter-widgets/base",
            "_view_module_version": "1.2.0",
            "_view_name": "StyleView",
            "bar_color": null,
            "description_width": ""
          }
        },
        "65ae0fc76e114f8f82759ec2ee09a398": {
          "model_module": "@jupyter-widgets/base",
          "model_name": "LayoutModel",
          "model_module_version": "1.2.0",
          "state": {
            "_model_module": "@jupyter-widgets/base",
            "_model_module_version": "1.2.0",
            "_model_name": "LayoutModel",
            "_view_count": null,
            "_view_module": "@jupyter-widgets/base",
            "_view_module_version": "1.2.0",
            "_view_name": "LayoutView",
            "align_content": null,
            "align_items": null,
            "align_self": null,
            "border": null,
            "bottom": null,
            "display": null,
            "flex": null,
            "flex_flow": null,
            "grid_area": null,
            "grid_auto_columns": null,
            "grid_auto_flow": null,
            "grid_auto_rows": null,
            "grid_column": null,
            "grid_gap": null,
            "grid_row": null,
            "grid_template_areas": null,
            "grid_template_columns": null,
            "grid_template_rows": null,
            "height": null,
            "justify_content": null,
            "justify_items": null,
            "left": null,
            "margin": null,
            "max_height": null,
            "max_width": null,
            "min_height": null,
            "min_width": null,
            "object_fit": null,
            "object_position": null,
            "order": null,
            "overflow": null,
            "overflow_x": null,
            "overflow_y": null,
            "padding": null,
            "right": null,
            "top": null,
            "visibility": null,
            "width": null
          }
        },
        "a1924e0154ea4ee3865420ad34848d24": {
          "model_module": "@jupyter-widgets/controls",
          "model_name": "DescriptionStyleModel",
          "model_module_version": "1.5.0",
          "state": {
            "_model_module": "@jupyter-widgets/controls",
            "_model_module_version": "1.5.0",
            "_model_name": "DescriptionStyleModel",
            "_view_count": null,
            "_view_module": "@jupyter-widgets/base",
            "_view_module_version": "1.2.0",
            "_view_name": "StyleView",
            "description_width": ""
          }
        },
        "c01aec0ff2384e53a2c7e872f78141a1": {
          "model_module": "@jupyter-widgets/controls",
          "model_name": "HBoxModel",
          "model_module_version": "1.5.0",
          "state": {
            "_dom_classes": [],
            "_model_module": "@jupyter-widgets/controls",
            "_model_module_version": "1.5.0",
            "_model_name": "HBoxModel",
            "_view_count": null,
            "_view_module": "@jupyter-widgets/controls",
            "_view_module_version": "1.5.0",
            "_view_name": "HBoxView",
            "box_style": "",
            "children": [
              "IPY_MODEL_e18964bc56ec478fa95366ac6db42c76",
              "IPY_MODEL_6a82409939954afeba050210d32b906d",
              "IPY_MODEL_b74f7bca647340bda228beece52f8d39"
            ],
            "layout": "IPY_MODEL_e287d51cd054468ab4f0e40d923e54d5"
          }
        },
        "e18964bc56ec478fa95366ac6db42c76": {
          "model_module": "@jupyter-widgets/controls",
          "model_name": "HTMLModel",
          "model_module_version": "1.5.0",
          "state": {
            "_dom_classes": [],
            "_model_module": "@jupyter-widgets/controls",
            "_model_module_version": "1.5.0",
            "_model_name": "HTMLModel",
            "_view_count": null,
            "_view_module": "@jupyter-widgets/controls",
            "_view_module_version": "1.5.0",
            "_view_name": "HTMLView",
            "description": "",
            "description_tooltip": null,
            "layout": "IPY_MODEL_4bc6161e7f3b4d2695185df94c077563",
            "placeholder": "​",
            "style": "IPY_MODEL_7315056060124cc997369974ec1bd35f",
            "value": "Saving the dataset (1/1 shards): 100%"
          }
        },
        "6a82409939954afeba050210d32b906d": {
          "model_module": "@jupyter-widgets/controls",
          "model_name": "FloatProgressModel",
          "model_module_version": "1.5.0",
          "state": {
            "_dom_classes": [],
            "_model_module": "@jupyter-widgets/controls",
            "_model_module_version": "1.5.0",
            "_model_name": "FloatProgressModel",
            "_view_count": null,
            "_view_module": "@jupyter-widgets/controls",
            "_view_module_version": "1.5.0",
            "_view_name": "ProgressView",
            "bar_style": "success",
            "description": "",
            "description_tooltip": null,
            "layout": "IPY_MODEL_5bf7b93cc0d044448359aadb61ccd637",
            "max": 54891,
            "min": 0,
            "orientation": "horizontal",
            "style": "IPY_MODEL_a48d02ab36214eecbe6247a0bfc34a5d",
            "value": 54891
          }
        },
        "b74f7bca647340bda228beece52f8d39": {
          "model_module": "@jupyter-widgets/controls",
          "model_name": "HTMLModel",
          "model_module_version": "1.5.0",
          "state": {
            "_dom_classes": [],
            "_model_module": "@jupyter-widgets/controls",
            "_model_module_version": "1.5.0",
            "_model_name": "HTMLModel",
            "_view_count": null,
            "_view_module": "@jupyter-widgets/controls",
            "_view_module_version": "1.5.0",
            "_view_name": "HTMLView",
            "description": "",
            "description_tooltip": null,
            "layout": "IPY_MODEL_6bc941af03254acba2052cdad734df9b",
            "placeholder": "​",
            "style": "IPY_MODEL_364f8fe2b8a74da2ae4a528f848c8067",
            "value": " 54891/54891 [00:00&lt;00:00, 143985.27 examples/s]"
          }
        },
        "e287d51cd054468ab4f0e40d923e54d5": {
          "model_module": "@jupyter-widgets/base",
          "model_name": "LayoutModel",
          "model_module_version": "1.2.0",
          "state": {
            "_model_module": "@jupyter-widgets/base",
            "_model_module_version": "1.2.0",
            "_model_name": "LayoutModel",
            "_view_count": null,
            "_view_module": "@jupyter-widgets/base",
            "_view_module_version": "1.2.0",
            "_view_name": "LayoutView",
            "align_content": null,
            "align_items": null,
            "align_self": null,
            "border": null,
            "bottom": null,
            "display": null,
            "flex": null,
            "flex_flow": null,
            "grid_area": null,
            "grid_auto_columns": null,
            "grid_auto_flow": null,
            "grid_auto_rows": null,
            "grid_column": null,
            "grid_gap": null,
            "grid_row": null,
            "grid_template_areas": null,
            "grid_template_columns": null,
            "grid_template_rows": null,
            "height": null,
            "justify_content": null,
            "justify_items": null,
            "left": null,
            "margin": null,
            "max_height": null,
            "max_width": null,
            "min_height": null,
            "min_width": null,
            "object_fit": null,
            "object_position": null,
            "order": null,
            "overflow": null,
            "overflow_x": null,
            "overflow_y": null,
            "padding": null,
            "right": null,
            "top": null,
            "visibility": null,
            "width": null
          }
        },
        "4bc6161e7f3b4d2695185df94c077563": {
          "model_module": "@jupyter-widgets/base",
          "model_name": "LayoutModel",
          "model_module_version": "1.2.0",
          "state": {
            "_model_module": "@jupyter-widgets/base",
            "_model_module_version": "1.2.0",
            "_model_name": "LayoutModel",
            "_view_count": null,
            "_view_module": "@jupyter-widgets/base",
            "_view_module_version": "1.2.0",
            "_view_name": "LayoutView",
            "align_content": null,
            "align_items": null,
            "align_self": null,
            "border": null,
            "bottom": null,
            "display": null,
            "flex": null,
            "flex_flow": null,
            "grid_area": null,
            "grid_auto_columns": null,
            "grid_auto_flow": null,
            "grid_auto_rows": null,
            "grid_column": null,
            "grid_gap": null,
            "grid_row": null,
            "grid_template_areas": null,
            "grid_template_columns": null,
            "grid_template_rows": null,
            "height": null,
            "justify_content": null,
            "justify_items": null,
            "left": null,
            "margin": null,
            "max_height": null,
            "max_width": null,
            "min_height": null,
            "min_width": null,
            "object_fit": null,
            "object_position": null,
            "order": null,
            "overflow": null,
            "overflow_x": null,
            "overflow_y": null,
            "padding": null,
            "right": null,
            "top": null,
            "visibility": null,
            "width": null
          }
        },
        "7315056060124cc997369974ec1bd35f": {
          "model_module": "@jupyter-widgets/controls",
          "model_name": "DescriptionStyleModel",
          "model_module_version": "1.5.0",
          "state": {
            "_model_module": "@jupyter-widgets/controls",
            "_model_module_version": "1.5.0",
            "_model_name": "DescriptionStyleModel",
            "_view_count": null,
            "_view_module": "@jupyter-widgets/base",
            "_view_module_version": "1.2.0",
            "_view_name": "StyleView",
            "description_width": ""
          }
        },
        "5bf7b93cc0d044448359aadb61ccd637": {
          "model_module": "@jupyter-widgets/base",
          "model_name": "LayoutModel",
          "model_module_version": "1.2.0",
          "state": {
            "_model_module": "@jupyter-widgets/base",
            "_model_module_version": "1.2.0",
            "_model_name": "LayoutModel",
            "_view_count": null,
            "_view_module": "@jupyter-widgets/base",
            "_view_module_version": "1.2.0",
            "_view_name": "LayoutView",
            "align_content": null,
            "align_items": null,
            "align_self": null,
            "border": null,
            "bottom": null,
            "display": null,
            "flex": null,
            "flex_flow": null,
            "grid_area": null,
            "grid_auto_columns": null,
            "grid_auto_flow": null,
            "grid_auto_rows": null,
            "grid_column": null,
            "grid_gap": null,
            "grid_row": null,
            "grid_template_areas": null,
            "grid_template_columns": null,
            "grid_template_rows": null,
            "height": null,
            "justify_content": null,
            "justify_items": null,
            "left": null,
            "margin": null,
            "max_height": null,
            "max_width": null,
            "min_height": null,
            "min_width": null,
            "object_fit": null,
            "object_position": null,
            "order": null,
            "overflow": null,
            "overflow_x": null,
            "overflow_y": null,
            "padding": null,
            "right": null,
            "top": null,
            "visibility": null,
            "width": null
          }
        },
        "a48d02ab36214eecbe6247a0bfc34a5d": {
          "model_module": "@jupyter-widgets/controls",
          "model_name": "ProgressStyleModel",
          "model_module_version": "1.5.0",
          "state": {
            "_model_module": "@jupyter-widgets/controls",
            "_model_module_version": "1.5.0",
            "_model_name": "ProgressStyleModel",
            "_view_count": null,
            "_view_module": "@jupyter-widgets/base",
            "_view_module_version": "1.2.0",
            "_view_name": "StyleView",
            "bar_color": null,
            "description_width": ""
          }
        },
        "6bc941af03254acba2052cdad734df9b": {
          "model_module": "@jupyter-widgets/base",
          "model_name": "LayoutModel",
          "model_module_version": "1.2.0",
          "state": {
            "_model_module": "@jupyter-widgets/base",
            "_model_module_version": "1.2.0",
            "_model_name": "LayoutModel",
            "_view_count": null,
            "_view_module": "@jupyter-widgets/base",
            "_view_module_version": "1.2.0",
            "_view_name": "LayoutView",
            "align_content": null,
            "align_items": null,
            "align_self": null,
            "border": null,
            "bottom": null,
            "display": null,
            "flex": null,
            "flex_flow": null,
            "grid_area": null,
            "grid_auto_columns": null,
            "grid_auto_flow": null,
            "grid_auto_rows": null,
            "grid_column": null,
            "grid_gap": null,
            "grid_row": null,
            "grid_template_areas": null,
            "grid_template_columns": null,
            "grid_template_rows": null,
            "height": null,
            "justify_content": null,
            "justify_items": null,
            "left": null,
            "margin": null,
            "max_height": null,
            "max_width": null,
            "min_height": null,
            "min_width": null,
            "object_fit": null,
            "object_position": null,
            "order": null,
            "overflow": null,
            "overflow_x": null,
            "overflow_y": null,
            "padding": null,
            "right": null,
            "top": null,
            "visibility": null,
            "width": null
          }
        },
        "364f8fe2b8a74da2ae4a528f848c8067": {
          "model_module": "@jupyter-widgets/controls",
          "model_name": "DescriptionStyleModel",
          "model_module_version": "1.5.0",
          "state": {
            "_model_module": "@jupyter-widgets/controls",
            "_model_module_version": "1.5.0",
            "_model_name": "DescriptionStyleModel",
            "_view_count": null,
            "_view_module": "@jupyter-widgets/base",
            "_view_module_version": "1.2.0",
            "_view_name": "StyleView",
            "description_width": ""
          }
        },
        "11f164c992ef4eb188aa475d86f1df5e": {
          "model_module": "@jupyter-widgets/controls",
          "model_name": "HBoxModel",
          "model_module_version": "1.5.0",
          "state": {
            "_dom_classes": [],
            "_model_module": "@jupyter-widgets/controls",
            "_model_module_version": "1.5.0",
            "_model_name": "HBoxModel",
            "_view_count": null,
            "_view_module": "@jupyter-widgets/controls",
            "_view_module_version": "1.5.0",
            "_view_name": "HBoxView",
            "box_style": "",
            "children": [
              "IPY_MODEL_255739cfc3f446dcbdde28f49363c42b",
              "IPY_MODEL_4fea65fa507d4820b6572a149f479710",
              "IPY_MODEL_fd5bc6937b4444218349882d40088b71"
            ],
            "layout": "IPY_MODEL_c19c444e8cc8457db0555484bb3e0753"
          }
        },
        "255739cfc3f446dcbdde28f49363c42b": {
          "model_module": "@jupyter-widgets/controls",
          "model_name": "HTMLModel",
          "model_module_version": "1.5.0",
          "state": {
            "_dom_classes": [],
            "_model_module": "@jupyter-widgets/controls",
            "_model_module_version": "1.5.0",
            "_model_name": "HTMLModel",
            "_view_count": null,
            "_view_module": "@jupyter-widgets/controls",
            "_view_module_version": "1.5.0",
            "_view_name": "HTMLView",
            "description": "",
            "description_tooltip": null,
            "layout": "IPY_MODEL_9120c96279fa4ab79047e461055c905e",
            "placeholder": "​",
            "style": "IPY_MODEL_32542491424748e59482599d3acac325",
            "value": "Saving the dataset (1/1 shards): 100%"
          }
        },
        "4fea65fa507d4820b6572a149f479710": {
          "model_module": "@jupyter-widgets/controls",
          "model_name": "FloatProgressModel",
          "model_module_version": "1.5.0",
          "state": {
            "_dom_classes": [],
            "_model_module": "@jupyter-widgets/controls",
            "_model_module_version": "1.5.0",
            "_model_name": "FloatProgressModel",
            "_view_count": null,
            "_view_module": "@jupyter-widgets/controls",
            "_view_module_version": "1.5.0",
            "_view_name": "ProgressView",
            "bar_style": "success",
            "description": "",
            "description_tooltip": null,
            "layout": "IPY_MODEL_1971ac3e9b474cd69266c6d8039c5518",
            "max": 80298,
            "min": 0,
            "orientation": "horizontal",
            "style": "IPY_MODEL_30590cba93254471ac9ad7103f83f385",
            "value": 80298
          }
        },
        "fd5bc6937b4444218349882d40088b71": {
          "model_module": "@jupyter-widgets/controls",
          "model_name": "HTMLModel",
          "model_module_version": "1.5.0",
          "state": {
            "_dom_classes": [],
            "_model_module": "@jupyter-widgets/controls",
            "_model_module_version": "1.5.0",
            "_model_name": "HTMLModel",
            "_view_count": null,
            "_view_module": "@jupyter-widgets/controls",
            "_view_module_version": "1.5.0",
            "_view_name": "HTMLView",
            "description": "",
            "description_tooltip": null,
            "layout": "IPY_MODEL_62bbbbe2d85442b7ba535296ecd32831",
            "placeholder": "​",
            "style": "IPY_MODEL_24e99ad3ed3147f9a9ade7f1871ced6a",
            "value": " 80298/80298 [00:00&lt;00:00, 202241.81 examples/s]"
          }
        },
        "c19c444e8cc8457db0555484bb3e0753": {
          "model_module": "@jupyter-widgets/base",
          "model_name": "LayoutModel",
          "model_module_version": "1.2.0",
          "state": {
            "_model_module": "@jupyter-widgets/base",
            "_model_module_version": "1.2.0",
            "_model_name": "LayoutModel",
            "_view_count": null,
            "_view_module": "@jupyter-widgets/base",
            "_view_module_version": "1.2.0",
            "_view_name": "LayoutView",
            "align_content": null,
            "align_items": null,
            "align_self": null,
            "border": null,
            "bottom": null,
            "display": null,
            "flex": null,
            "flex_flow": null,
            "grid_area": null,
            "grid_auto_columns": null,
            "grid_auto_flow": null,
            "grid_auto_rows": null,
            "grid_column": null,
            "grid_gap": null,
            "grid_row": null,
            "grid_template_areas": null,
            "grid_template_columns": null,
            "grid_template_rows": null,
            "height": null,
            "justify_content": null,
            "justify_items": null,
            "left": null,
            "margin": null,
            "max_height": null,
            "max_width": null,
            "min_height": null,
            "min_width": null,
            "object_fit": null,
            "object_position": null,
            "order": null,
            "overflow": null,
            "overflow_x": null,
            "overflow_y": null,
            "padding": null,
            "right": null,
            "top": null,
            "visibility": null,
            "width": null
          }
        },
        "9120c96279fa4ab79047e461055c905e": {
          "model_module": "@jupyter-widgets/base",
          "model_name": "LayoutModel",
          "model_module_version": "1.2.0",
          "state": {
            "_model_module": "@jupyter-widgets/base",
            "_model_module_version": "1.2.0",
            "_model_name": "LayoutModel",
            "_view_count": null,
            "_view_module": "@jupyter-widgets/base",
            "_view_module_version": "1.2.0",
            "_view_name": "LayoutView",
            "align_content": null,
            "align_items": null,
            "align_self": null,
            "border": null,
            "bottom": null,
            "display": null,
            "flex": null,
            "flex_flow": null,
            "grid_area": null,
            "grid_auto_columns": null,
            "grid_auto_flow": null,
            "grid_auto_rows": null,
            "grid_column": null,
            "grid_gap": null,
            "grid_row": null,
            "grid_template_areas": null,
            "grid_template_columns": null,
            "grid_template_rows": null,
            "height": null,
            "justify_content": null,
            "justify_items": null,
            "left": null,
            "margin": null,
            "max_height": null,
            "max_width": null,
            "min_height": null,
            "min_width": null,
            "object_fit": null,
            "object_position": null,
            "order": null,
            "overflow": null,
            "overflow_x": null,
            "overflow_y": null,
            "padding": null,
            "right": null,
            "top": null,
            "visibility": null,
            "width": null
          }
        },
        "32542491424748e59482599d3acac325": {
          "model_module": "@jupyter-widgets/controls",
          "model_name": "DescriptionStyleModel",
          "model_module_version": "1.5.0",
          "state": {
            "_model_module": "@jupyter-widgets/controls",
            "_model_module_version": "1.5.0",
            "_model_name": "DescriptionStyleModel",
            "_view_count": null,
            "_view_module": "@jupyter-widgets/base",
            "_view_module_version": "1.2.0",
            "_view_name": "StyleView",
            "description_width": ""
          }
        },
        "1971ac3e9b474cd69266c6d8039c5518": {
          "model_module": "@jupyter-widgets/base",
          "model_name": "LayoutModel",
          "model_module_version": "1.2.0",
          "state": {
            "_model_module": "@jupyter-widgets/base",
            "_model_module_version": "1.2.0",
            "_model_name": "LayoutModel",
            "_view_count": null,
            "_view_module": "@jupyter-widgets/base",
            "_view_module_version": "1.2.0",
            "_view_name": "LayoutView",
            "align_content": null,
            "align_items": null,
            "align_self": null,
            "border": null,
            "bottom": null,
            "display": null,
            "flex": null,
            "flex_flow": null,
            "grid_area": null,
            "grid_auto_columns": null,
            "grid_auto_flow": null,
            "grid_auto_rows": null,
            "grid_column": null,
            "grid_gap": null,
            "grid_row": null,
            "grid_template_areas": null,
            "grid_template_columns": null,
            "grid_template_rows": null,
            "height": null,
            "justify_content": null,
            "justify_items": null,
            "left": null,
            "margin": null,
            "max_height": null,
            "max_width": null,
            "min_height": null,
            "min_width": null,
            "object_fit": null,
            "object_position": null,
            "order": null,
            "overflow": null,
            "overflow_x": null,
            "overflow_y": null,
            "padding": null,
            "right": null,
            "top": null,
            "visibility": null,
            "width": null
          }
        },
        "30590cba93254471ac9ad7103f83f385": {
          "model_module": "@jupyter-widgets/controls",
          "model_name": "ProgressStyleModel",
          "model_module_version": "1.5.0",
          "state": {
            "_model_module": "@jupyter-widgets/controls",
            "_model_module_version": "1.5.0",
            "_model_name": "ProgressStyleModel",
            "_view_count": null,
            "_view_module": "@jupyter-widgets/base",
            "_view_module_version": "1.2.0",
            "_view_name": "StyleView",
            "bar_color": null,
            "description_width": ""
          }
        },
        "62bbbbe2d85442b7ba535296ecd32831": {
          "model_module": "@jupyter-widgets/base",
          "model_name": "LayoutModel",
          "model_module_version": "1.2.0",
          "state": {
            "_model_module": "@jupyter-widgets/base",
            "_model_module_version": "1.2.0",
            "_model_name": "LayoutModel",
            "_view_count": null,
            "_view_module": "@jupyter-widgets/base",
            "_view_module_version": "1.2.0",
            "_view_name": "LayoutView",
            "align_content": null,
            "align_items": null,
            "align_self": null,
            "border": null,
            "bottom": null,
            "display": null,
            "flex": null,
            "flex_flow": null,
            "grid_area": null,
            "grid_auto_columns": null,
            "grid_auto_flow": null,
            "grid_auto_rows": null,
            "grid_column": null,
            "grid_gap": null,
            "grid_row": null,
            "grid_template_areas": null,
            "grid_template_columns": null,
            "grid_template_rows": null,
            "height": null,
            "justify_content": null,
            "justify_items": null,
            "left": null,
            "margin": null,
            "max_height": null,
            "max_width": null,
            "min_height": null,
            "min_width": null,
            "object_fit": null,
            "object_position": null,
            "order": null,
            "overflow": null,
            "overflow_x": null,
            "overflow_y": null,
            "padding": null,
            "right": null,
            "top": null,
            "visibility": null,
            "width": null
          }
        },
        "24e99ad3ed3147f9a9ade7f1871ced6a": {
          "model_module": "@jupyter-widgets/controls",
          "model_name": "DescriptionStyleModel",
          "model_module_version": "1.5.0",
          "state": {
            "_model_module": "@jupyter-widgets/controls",
            "_model_module_version": "1.5.0",
            "_model_name": "DescriptionStyleModel",
            "_view_count": null,
            "_view_module": "@jupyter-widgets/base",
            "_view_module_version": "1.2.0",
            "_view_name": "StyleView",
            "description_width": ""
          }
        }
      }
    }
  },
  "nbformat": 4,
  "nbformat_minor": 0
}